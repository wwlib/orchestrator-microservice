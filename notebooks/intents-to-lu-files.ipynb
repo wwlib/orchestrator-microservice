{
 "cells": [
  {
   "cell_type": "markdown",
   "metadata": {},
   "source": [
    "# intents-to-lu-files\n",
    "- breaks a model into sub-models, one per intent\n",
    "- see also: `npm run intents-to-lu-files`"
   ]
  },
  {
   "cell_type": "code",
   "execution_count": 1,
   "metadata": {},
   "outputs": [
    {
     "data": {
      "text/plain": [
       "{\n",
       "  Interface: [Function: Interface],\n",
       "  clearLine: [Function: clearLine],\n",
       "  clearScreenDown: [Function: clearScreenDown],\n",
       "  createInterface: [Function: createInterface],\n",
       "  cursorTo: [Function: cursorTo],\n",
       "  emitKeypressEvents: [Function: emitKeypressEvents],\n",
       "  moveCursor: [Function: moveCursor]\n",
       "}"
      ]
     },
     "execution_count": 1,
     "metadata": {},
     "output_type": "execute_result"
    }
   ],
   "source": [
    "events = require('events');\n",
    "fs = require('fs-extra');\n",
    "readline = require('readline');"
   ]
  },
  {
   "cell_type": "code",
   "execution_count": 2,
   "metadata": {},
   "outputs": [
    {
     "data": {
      "text/plain": [
       "'./data/models/'"
      ]
     },
     "execution_count": 2,
     "metadata": {},
     "output_type": "execute_result"
    }
   ],
   "source": [
    "sourceModelPath = './data/SmallTalk.lu'\n",
    "outputDirectory = './data/models/'"
   ]
  },
  {
   "cell_type": "code",
   "execution_count": 3,
   "metadata": {},
   "outputs": [
    {
     "data": {
      "text/plain": [
       "'../orchestrator-files/lu/SmallTalk/'"
      ]
     },
     "execution_count": 3,
     "metadata": {},
     "output_type": "execute_result"
    }
   ],
   "source": [
    "sourceModelPath = '../orchestrator-files/lu/Dispatch/SmallTalk.lu'\n",
    "outputDirectory = '../orchestrator-files/lu/SmallTalk/'"
   ]
  },
  {
   "cell_type": "markdown",
   "metadata": {},
   "source": [
    "### intentsToLuFiles"
   ]
  },
  {
   "cell_type": "code",
   "execution_count": 7,
   "metadata": {},
   "outputs": [
    {
     "name": "stdout",
     "output_type": "stream",
     "text": [
      "Writing: ../orchestrator-files/lu/SmallTalk/didWatchEvent.lu\n",
      "Writing: ../orchestrator-files/lu/SmallTalk/doesBelieveInThing.lu\n",
      "Writing: ../orchestrator-files/lu/SmallTalk/doesCareAboutEvent.lu\n",
      "Writing: ../orchestrator-files/lu/SmallTalk/doesFeelEmotionAboutThing.lu\n",
      "Writing: ../orchestrator-files/lu/SmallTalk/doesHaveFavorite.lu\n",
      "Writing: ../orchestrator-files/lu/SmallTalk/doesHaveLeastFavorite.lu\n",
      "Writing: ../orchestrator-files/lu/SmallTalk/doesHaveOpinionAboutThing.lu\n",
      "Writing: ../orchestrator-files/lu/SmallTalk/doesHavePlansForEvent.lu\n",
      "Writing: ../orchestrator-files/lu/SmallTalk/doesHaveRelation.lu\n",
      "Writing: ../orchestrator-files/lu/SmallTalk/doesKnowPerson.lu\n",
      "Writing: ../orchestrator-files/lu/SmallTalk/greeting.lu\n",
      "Writing: ../orchestrator-files/lu/SmallTalk/howQuestion.lu\n",
      "Writing: ../orchestrator-files/lu/SmallTalk/whatQuestion.lu\n",
      "Writing: ../orchestrator-files/lu/SmallTalk/whereQuestion.lu\n",
      "Writing: ../orchestrator-files/lu/SmallTalk/whoQuestion.lu\n",
      "Writing: ../orchestrator-files/lu/SmallTalk/whyQuestion.lu\n",
      "Writing: ../orchestrator-files/lu/SmallTalk/userFeels.lu\n",
      "Wrote 17 .lu files to: ../orchestrator-files/lu/SmallTalk/\n"
     ]
    }
   ],
   "source": [
    "(async function intentsToLuFiles() {\n",
    "  try {\n",
    "    fs.rmSync(outputDirectory, { recursive: true, force: true });\n",
    "    const rl = readline.createInterface({\n",
    "      input: fs.createReadStream(sourceModelPath),\n",
    "      crlfDelay: Infinity\n",
    "    });\n",
    "      \n",
    "    fs.rmSync(outputDirectory, { recursive: true, force: true });\n",
    "    fs.ensureDirSync(outputDirectory)\n",
    "\n",
    "    let count = 0;\n",
    "    let currentFilepath;\n",
    "    rl.on('line', (line) => {\n",
    "        // console.log(line)\n",
    "        if (line.substring(0,1) === '>' || line.substring(0,1) === '') {\n",
    "            // console.log(`skipping: ${line}`)\n",
    "        } else if (line.substring(0,2) === '##') {\n",
    "            count++\n",
    "            let intent = line.split('##')[1].trim()\n",
    "            currentFilepath = outputDirectory + intent + '.lu'\n",
    "            console.log(`Writing: ${currentFilepath}`)\n",
    "            fs.appendFileSync(currentFilepath, '## ' + intent + '\\n')\n",
    "        } else if (line.substring(0,1) === '-') {\n",
    "            let sample = line.split('-')[1].trim()\n",
    "            fs.appendFileSync(currentFilepath, '- ' + sample + '\\n')\n",
    "        }\n",
    "    });\n",
    "\n",
    "    await events.once(rl, 'close');\n",
    "    console.log(`Wrote ${count} .lu files to: ${outputDirectory}`);\n",
    "\n",
    "  } catch (err) {\n",
    "    console.error(err);\n",
    "  }\n",
    "})();"
   ]
  },
  {
   "cell_type": "code",
   "execution_count": null,
   "metadata": {},
   "outputs": [],
   "source": []
  }
 ],
 "metadata": {
  "kernelspec": {
   "display_name": "Javascript (Node.js)",
   "language": "javascript",
   "name": "javascript"
  },
  "language_info": {
   "file_extension": ".js",
   "mimetype": "application/javascript",
   "name": "javascript",
   "version": "14.19.0"
  }
 },
 "nbformat": 4,
 "nbformat_minor": 4
}
